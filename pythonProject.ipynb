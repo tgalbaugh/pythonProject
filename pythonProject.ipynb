{
  "nbformat": 4,
  "nbformat_minor": 0,
  "metadata": {
    "colab": {
      "name": "pythonProject.ipynb",
      "provenance": [],
      "collapsed_sections": [],
      "mount_file_id": "1fwiQZodWSqLg7VasGCBPDztDxdvEVeFx",
      "authorship_tag": "ABX9TyM9vI4QVNhfudab5QAC9jAI",
      "include_colab_link": true
    },
    "kernelspec": {
      "name": "python3",
      "display_name": "Python 3"
    },
    "language_info": {
      "name": "python"
    }
  },
  "cells": [
    {
      "cell_type": "markdown",
      "metadata": {
        "id": "view-in-github",
        "colab_type": "text"
      },
      "source": [
        "<a href=\"https://colab.research.google.com/github/tgalbaugh/pythonProject/blob/master/pythonProject.ipynb\" target=\"_parent\"><img src=\"https://colab.research.google.com/assets/colab-badge.svg\" alt=\"Open In Colab\"/></a>"
      ]
    },
    {
      "cell_type": "markdown",
      "source": [
        "Mount, import etc"
      ],
      "metadata": {
        "id": "sNeEQStvomBU"
      }
    },
    {
      "cell_type": "markdown",
      "source": [
        "Select CSV file"
      ],
      "metadata": {
        "id": "zjREq0P0pEK5"
      }
    },
    {
      "cell_type": "code",
      "source": [
        "import pandas as pd\n",
        "import io\n",
        "import numpy as np\n",
        "import datetime as dt\n",
        "import pytz as tz\n",
        "import sys"
      ],
      "metadata": {
        "id": "nQdZZjr3oXBk"
      },
      "execution_count": 14,
      "outputs": []
    },
    {
      "cell_type": "code",
      "source": [
        "#df = pd.read_csv(io.BytesIO(['file.csv']))\n",
        "#print(df)\n",
        "#%cd '//content/pythonProject/sourceCSV'\n",
        "#%cd '//content/pythonProject'\n",
        "df = pd.read_csv ('//content/pythonProject/sourceCSV/warehousedata-prodsheet-20220101.csv')\n",
        "print(df)\n",
        "#!dir\n"
      ],
      "metadata": {
        "colab": {
          "base_uri": "https://localhost:8080/"
        },
        "id": "7aZHN28A0xt5",
        "outputId": "cc0d4146-82de-4120-a789-c791de1327b3"
      },
      "execution_count": 31,
      "outputs": [
        {
          "output_type": "stream",
          "name": "stdout",
          "text": [
            "      99  44562  AUTOPROCESS  161     1600  0  \\\n",
            "0     99  44562  AUTOPROCESS  161     1600  0   \n",
            "1     99  44562  AUTOPROCESS  161     1600  0   \n",
            "2     99  44562  AUTOPROCESS  161     1600  0   \n",
            "3     99  44562  AUTOPROCESS  162     1600  0   \n",
            "4     99  44562  AUTOPROCESS  162     1600  0   \n",
            "...   ..    ...          ...  ...      ... ..   \n",
            "3524  99  44562      4047454  161     1610  0   \n",
            "3525  99  44562      4047454  161     5600  0   \n",
            "3526  99  44562      4047454  161     1610  0   \n",
            "3527  99  44562      4047454  161     5600  0   \n",
            "3528  99  44562      4047454  161  9997161  0   \n",
            "\n",
            "      1    NULNULNULL  NULL  NULL NUL  231    0.1  2.715  ...  Unnamed: 73  \\\n",
            "0     1    NULNULNULL  NULL  NULL NUL  474  0.000  5.572  ...          NaN   \n",
            "1     1    NULNULNULL  NULL  NULL NUL  117  0.000  1.375  ...          NaN   \n",
            "2     1    NULNULNULL  NULL  NULL NUL  141  0.000  1.657  ...          NaN   \n",
            "3     1    NULNULNULL  NULL  NULL NUL  293  0.000  3.444  ...          NaN   \n",
            "4     1    NULNULNULL  NULL  NULL NUL  458  0.000  5.384  ...          NaN   \n",
            "...                               ...  ...    ...    ...  ...          ...   \n",
            "3524  1    NULNULNULL  NULL  NULL NUL    1  0.383  0.070  ...          NaN   \n",
            "3525  1    NULNULNULL  NULL  NULL NUL    1  0.000  0.001  ...          NaN   \n",
            "3526  1    NULNULNULL  NULL  NULL NUL    1  0.017  0.070  ...          NaN   \n",
            "3527  1    NULNULNULL  NULL  NULL NUL    1  0.000  0.001  ...          NaN   \n",
            "3528                          (punch)    0  0.233  0.000  ...          NaN   \n",
            "\n",
            "     Unnamed: 74  Unnamed: 75  Unnamed: 76  Unnamed: 77  Unnamed: 78  \\\n",
            "0            NaN          NaN          NaN          NaN          NaN   \n",
            "1            NaN          NaN          NaN          NaN          NaN   \n",
            "2            NaN          NaN          NaN          NaN          NaN   \n",
            "3            NaN          NaN          NaN          NaN          NaN   \n",
            "4            NaN          NaN          NaN          NaN          NaN   \n",
            "...          ...          ...          ...          ...          ...   \n",
            "3524         NaN          NaN          NaN          NaN          NaN   \n",
            "3525         NaN          NaN          NaN          NaN          NaN   \n",
            "3526         NaN          NaN          NaN          NaN          NaN   \n",
            "3527         NaN          NaN          NaN          NaN          NaN   \n",
            "3528         NaN          NaN          NaN          NaN          NaN   \n",
            "\n",
            "      Unnamed: 79 Unnamed: 80  Unnamed: 81  Unnamed: 82  \n",
            "0             NaN         NaN          NaN          NaN  \n",
            "1             NaN         NaN          NaN          NaN  \n",
            "2             NaN         NaN          NaN          NaN  \n",
            "3             NaN         NaN          NaN          NaN  \n",
            "4             NaN         NaN          NaN          NaN  \n",
            "...           ...         ...          ...          ...  \n",
            "3524          NaN         NaN          NaN      27889.0  \n",
            "3525          NaN         NaN          NaN      27889.0  \n",
            "3526          NaN         NaN          NaN      27889.0  \n",
            "3527          NaN         NaN          NaN      27889.0  \n",
            "3528          NaN         NaN          NaN      27889.0  \n",
            "\n",
            "[3529 rows x 83 columns]\n"
          ]
        }
      ]
    },
    {
      "cell_type": "code",
      "source": [
        "#request = drive_service.files().get_media(fileId=fileID)\n",
        "\n",
        "#prorep_csv = io.BytesIO()\n",
        "#downloader = MediaIoBaseDownload(prorep_csv, request)\n",
        "#done = False\n",
        "#while done is False:\n",
        "#  status, done = downloader.next_chunk()\n",
        "#prorep_csv.seek(0)\n",
        "#load it into pandas\n",
        "df = pd.read_csv(\n",
        "'//content/pythonProject/sourceCSV/warehousedata-prodsheet-20220101.csv'\n",
        ",encoding = \"ISO-8859-1\"\n",
        ",usecols=[0,1,2,3,4,5,7,8,9,10,17,18,19,20,23,25,27,29,31,33,35,37,55,82]\n",
        ",names = ['SystemID', 'Date', 'Associate','WorkCenter','Activity','Allocation','Units','ActualHours','EarnedHours','StopTime','AssociateName','WorkCenterDesc','ActivityDesc','AllocationDesc','UnitsE1','LinesE2','OrderE3','LocationsE4','LPNSE5','EachesE6','CasesE7','PalletsE8','TravelTimeE17','Supervisor']\n",
        ",skip_blank_lines = True\n",
        ",low_memory=False \n",
        ")\n",
        "print(df)\n",
        "\n",
        "# V V V V V CSV fields V V V V V\n",
        "#SystemID\tINTEGER\n",
        "df['SystemID'] = (df['SystemID']).astype(int) \n",
        "#Date\tDATE      ##convert Date from Serial Date to Python DateTime\n",
        "df[\"Date\"] = df[\"Date\"].map(lambda x: dt.datetime.fromordinal(dt.datetime(1900, 1, 1).toordinal() + x - 2)).map(lambda x: x.strftime(\"%Y-%m-%d\")).astype('datetime64[ns]')\n",
        "#Associate\tSTRING\n",
        "df['Associate'] = (df['Associate']).astype(str)\n",
        "#WorkCenter\tSTRING\n",
        "df['WorkCenter'] = (df['WorkCenter']).astype(str)\n",
        "#Activity\tSTRING\n",
        "df['Activity'] = (df['Activity']).astype(str)\n",
        "#Allocation\tINTEGER\n",
        "df['Allocation'] = (df['Allocation']).astype(int)\n",
        "#Units\tINTEGER\n",
        "df['Units'] = (df['Units']).astype(int)\n",
        "#ActualHours\tFLOAT\n",
        "df['ActualHours'] = (df['ActualHours']).astype(float)\n",
        "#EarnedHours\tFLOAT\n",
        "df['EarnedHours1'] = (df['EarnedHours']).astype(float)\n",
        "#StopTime\tTIME\n",
        "df['StopTime'] = pd.to_datetime((df[\"StopTime\"]*86400), unit='s').dt.strftime(\"%H:%M:%S\")\n",
        "#AssociateName\tSTRING\n",
        "df['AssociateName'] = (df['AssociateName']).astype(str)\n",
        "#WorkCenterDesc\tSTRING\n",
        "df['WorkCenterDesc'] = (df['WorkCenterDesc']).astype(str)\n",
        "#ActivityDesc\tSTRING\n",
        "df['ActivityDesc'] = (df['ActivityDesc']).astype(str)\n",
        "#AllocationDesc\tSTRING\tNULLABLE\t\n",
        "df['AllocationDesc'] = (df['AllocationDesc']).astype(str)\n",
        "#UnitsE1\tINTEGER\t\n",
        "df['UnitsE1'] = (df['UnitsE1']).astype(float)#should be int\n",
        "#LinesE2\tINTEGER\n",
        "df['LinesE2'] = (df['LinesE2']).astype(float)#should be int\n",
        "#OrderE3\tINTEGER\n",
        "df['OrderE3'] = (df['OrderE3']).astype(float)#should be int\n",
        "#LocationsE4\tINTEGER\n",
        "df['LocationsE4'] = (df['LocationsE4']).astype(float)#should be int\n",
        "#LPNSE5\tINTEGER\n",
        "df['LPNSE5'] = (df['LPNSE5']).astype(float)#should be int\n",
        "#EachesE6\tINTEGER\n",
        "df['EachesE6'] = (df['EachesE6']).astype(float)#should be int\n",
        "#CasesE7\tINTEGER\n",
        "df['CasesE7'] = (df['CasesE7']).astype(float)#should be int\n",
        "#PalletsE8\tINTEGER\n",
        "df['PalletsE8'] = (df['PalletsE8']).astype(float)#should be int\n",
        "#TravelTimeE17\tFLOAT\n",
        "df['TravelTimeE17'] = (df['TravelTimeE17']).astype(float)\n",
        "# V V V V V fields not in CSV from ProRep V V V V V\n",
        "#ReportDateTime\tDATETIME\n",
        "df['ReportDateTime'] = (df['Date'].astype(str) + \" \" + df['StopTime'].astype(str)).astype('datetime64[ns]').astype('datetime64[ns]')\n",
        "#Shift\tINTEGER\n",
        "df['Shift'] = df['WorkCenter'].str[-1:].astype(int)\n",
        "#UnitsInTOW\tINTEGER\n",
        "#df.loc[df['UnitsCountsForDept'] == 'Yes', 'UnitsInTOW'] = df['Units'].astype(float)#should be int\n",
        "#IndirectHours\tFLOAT\n",
        "#df.loc[df['Direct'] == 'Indirect', 'IndirectHours'] = df['ActualHours'].astype(float)\n",
        "#DirectHours\tFLOAT\n",
        "#df.loc[df['Direct'] == 'Direct', 'DirectHours'] = df['ActualHours'].astype(float)\n",
        "#GapHours\tFLOAT\n",
        "ifThese = [df['Activity'].str[0:4] == '9997'\n",
        "    ,df['ActualHours'] == 0\n",
        "    ,(((df['EarnedHours']/df['ActualHours']) < 0.3)*((df['EarnedHours']/df['ActualHours']) > 0)*(df['ActualHours'] >0.5)) > 0]\n",
        "thenThese = [df['ActualHours']\n",
        "    ,0\n",
        "    ,df['ActualHours']-df['EarnedHours']]\n",
        "df['GapHours'] = np.select(ifThese, thenThese,0)\n",
        "#TimeStamp\tDATETIME\n",
        "df['TimeStamp'] = dt.datetime.now().astimezone(tz.timezone('US/Eastern')).strftime('%Y-%m-%dT%H:%M:%S')\n",
        "df['TimeStamp'] = df['TimeStamp'].astype('datetime64[ns]')\n",
        "#weekOf\tDATE\n",
        "df['weekOf'] = pd.to_datetime(df['Date']) - pd.offsets.Week(weekday=6)\n",
        "#Supervisor\tINTEGER\n",
        "df['Supervisor'] = (df['Supervisor']).astype(float)#should be int\n",
        "\n",
        "#Put columns in order\n",
        "#df = df.reindex(columns=['SystemID', 'Date', 'Associate', 'WorkCenter', 'Activity', 'Allocation', 'Units', 'ActualHours', 'EarnedHours', 'StopTime', 'AssociateName', 'WorkCenterDesc', 'ActivityDesc', 'AllocationDesc', 'UnitsE1', 'LinesE2', 'OrderE3', 'LocationsE4', 'LPNSE5', 'EachesE6', 'CasesE7', 'PalletsE8', 'TravelTimeE17', 'ReportDateTime', 'Shift', 'TypeWork', 'UnitsCountsForDept', 'UnitsInTOW', 'Direct', 'IndirectHours', 'DirectHours', 'HomeWC', 'Dept', 'GapHours', 'PlanIndirectHours', 'ReportingArea', 'UnitsCounting', 'TimeStamp', 'whName', 'whRegion','srcGoal', 'functionGroup', 'functionSubGroup', 'Measured', 'dataSource', 'weekOf', 'ProductType', 'Supervisor', 'SupervisorName', 'srcGoalDept', 'gpOperation'])\n",
        "\n",
        "#Display interactive table\n",
        "#from google.colab.data_table import DataTable\n",
        "#DataTable(df.head(100), include_index=False, num_rows_per_page=25, max_columns=60)\n",
        "\n",
        "#print CSV for Data Validation vs GBQ table\n",
        "exportCSV = df.to_csv('//content/pythonProject/bigQueryCSV/output.csv', index=False)"
      ],
      "metadata": {
        "colab": {
          "base_uri": "https://localhost:8080/"
        },
        "id": "6Qoej8kdzfQq",
        "outputId": "3ec935fb-a3d3-4bcb-8133-27c030520020"
      },
      "execution_count": 39,
      "outputs": [
        {
          "output_type": "stream",
          "name": "stdout",
          "text": [
            "      SystemID   Date    Associate  WorkCenter  Activity  Allocation  Units  \\\n",
            "0           99  44562  AUTOPROCESS         161      1600           0    231   \n",
            "1           99  44562  AUTOPROCESS         161      1600           0    474   \n",
            "2           99  44562  AUTOPROCESS         161      1600           0    117   \n",
            "3           99  44562  AUTOPROCESS         161      1600           0    141   \n",
            "4           99  44562  AUTOPROCESS         162      1600           0    293   \n",
            "...        ...    ...          ...         ...       ...         ...    ...   \n",
            "3525        99  44562      4047454         161      1610           0      1   \n",
            "3526        99  44562      4047454         161      5600           0      1   \n",
            "3527        99  44562      4047454         161      1610           0      1   \n",
            "3528        99  44562      4047454         161      5600           0      1   \n",
            "3529        99  44562      4047454         161   9997161           0      0   \n",
            "\n",
            "      ActualHours  EarnedHours  StopTime  ... UnitsE1  LinesE2  OrderE3  \\\n",
            "0           0.000        2.715  0.350532  ...   231.0    231.0      NaN   \n",
            "1           0.000        5.572  0.496181  ...   474.0    474.0      NaN   \n",
            "2           0.000        1.375  0.600428  ...   117.0    117.0      NaN   \n",
            "3           0.000        1.657  0.683345  ...   141.0    141.0      NaN   \n",
            "4           0.000        3.444  0.811238  ...   293.0    293.0      NaN   \n",
            "...           ...          ...       ...  ...     ...      ...      ...   \n",
            "3525        0.383        0.070  0.680810  ...     NaN      1.0      NaN   \n",
            "3526        0.000        0.001  0.680810  ...     1.0      1.0      NaN   \n",
            "3527        0.017        0.070  0.681933  ...     NaN      1.0      NaN   \n",
            "3528        0.000        0.001  0.681933  ...     1.0      1.0      NaN   \n",
            "3529        0.233        0.000  0.690972  ...     NaN      NaN      NaN   \n",
            "\n",
            "      LocationsE4  LPNSE5  EachesE6  CasesE7  PalletsE8  TravelTimeE17  \\\n",
            "0             NaN     NaN       NaN      NaN        NaN            NaN   \n",
            "1             NaN     NaN       NaN      NaN        NaN            NaN   \n",
            "2             NaN     NaN       NaN      NaN        NaN            NaN   \n",
            "3             NaN     NaN       NaN      NaN        NaN            NaN   \n",
            "4             NaN     NaN       NaN      NaN        NaN            NaN   \n",
            "...           ...     ...       ...      ...        ...            ...   \n",
            "3525          NaN     NaN       NaN      NaN        NaN            NaN   \n",
            "3526          NaN     NaN       NaN      NaN        NaN            NaN   \n",
            "3527          NaN     NaN       NaN      NaN        NaN            NaN   \n",
            "3528          NaN     NaN       NaN      NaN        NaN            NaN   \n",
            "3529          NaN     NaN       NaN      NaN        NaN            NaN   \n",
            "\n",
            "      Supervisor  \n",
            "0            NaN  \n",
            "1            NaN  \n",
            "2            NaN  \n",
            "3            NaN  \n",
            "4            NaN  \n",
            "...          ...  \n",
            "3525     27889.0  \n",
            "3526     27889.0  \n",
            "3527     27889.0  \n",
            "3528     27889.0  \n",
            "3529     27889.0  \n",
            "\n",
            "[3530 rows x 24 columns]\n"
          ]
        }
      ]
    }
  ]
}