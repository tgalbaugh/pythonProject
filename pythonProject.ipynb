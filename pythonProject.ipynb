{
  "nbformat": 4,
  "nbformat_minor": 0,
  "metadata": {
    "colab": {
      "name": "pythonProject.ipynb",
      "provenance": [],
      "collapsed_sections": [],
      "authorship_tag": "ABX9TyPik4CLllQqV5Fl28FUTEtN",
      "include_colab_link": true
    },
    "kernelspec": {
      "name": "python3",
      "display_name": "Python 3"
    },
    "language_info": {
      "name": "python"
    }
  },
  "cells": [
    {
      "cell_type": "markdown",
      "metadata": {
        "id": "view-in-github",
        "colab_type": "text"
      },
      "source": [
        "<a href=\"https://colab.research.google.com/github/tgalbaugh/pythonProject/blob/master/pythonProject.ipynb\" target=\"_parent\"><img src=\"https://colab.research.google.com/assets/colab-badge.svg\" alt=\"Open In Colab\"/></a>"
      ]
    },
    {
      "cell_type": "markdown",
      "source": [
        "Mount, import etc"
      ],
      "metadata": {
        "id": "sNeEQStvomBU"
      }
    },
    {
      "cell_type": "code",
      "source": [
        "from google.colab import drive \n",
        "drive.mount('/content/gdrive')\n",
        "#drive.mount('/content/gdrive',force_remount=True)\n",
        "#%cd '/content/gdrive/Shareddrives/LMS Admins/LMSData/lmsCSV/TimTest/'\n",
        "\n",
        "#drive.flush_and_unmount()\n",
        "\n",
        "from pydrive.auth import GoogleAuth\n",
        "from pydrive.drive import GoogleDrive\n",
        "from google.colab import auth\n",
        "from oauth2client.client import GoogleCredentials\n",
        "\n",
        "auth.authenticate_user()  #asks permissions every time?\n",
        "gauth = GoogleAuth()\n",
        "gauth.credentials = GoogleCredentials.get_application_default()\n",
        "drive = GoogleDrive(gauth)\n",
        "\n",
        "#from google.colab import auth\n",
        "#auth.authenticate_user()\n",
        "from googleapiclient.discovery import build\n",
        "drive_service = build('drive', 'v3')\n",
        "\n",
        "from google.cloud import bigquery\n",
        "\n",
        "import pandas as pd\n",
        "import io\n",
        "import numpy as np\n",
        "import datetime as dt\n",
        "import pytz as tz\n",
        "from googleapiclient.http import MediaIoBaseDownload\n",
        "import sys\n",
        "from google.colab.data_table import DataTable\n"
      ],
      "metadata": {
        "colab": {
          "base_uri": "https://localhost:8080/"
        },
        "id": "nQdZZjr3oXBk",
        "outputId": "a2bd78ac-68b9-402e-df62-e07e25c6b8d7"
      },
      "execution_count": 1,
      "outputs": [
        {
          "output_type": "stream",
          "name": "stdout",
          "text": [
            "Mounted at /content/gdrive\n"
          ]
        }
      ]
    },
    {
      "cell_type": "markdown",
      "source": [
        "Select CSV file"
      ],
      "metadata": {
        "id": "zjREq0P0pEK5"
      }
    },
    {
      "cell_type": "code",
      "source": [
        "fileID = None #ensure fileID variable is clear\n",
        "driveId = '1-CAE_U88NdSr17dN5L2JgHe_IRyg8OPy' #LMS Admins Shared Drive\n",
        "def listCSVfunc(folderID,folderName):\n",
        "    fileList =  drive.ListFile({'q':\"'\"+folderID+\"' in parents and trashed=false and mimeType='text/CSV'\"\n",
        "                            ,'driveId': driveId\n",
        "                            ,'corpora': 'drive'\n",
        "                            ,'maxResults': 1\n",
        "                            ,'orderBy': 'createdDate' #'createdDate desc' to make descending\n",
        "                            ,'includeItemsFromAllDrives': True\n",
        "                            ,'supportsAllDrives': True}).GetList()\n",
        "    dfCSVlist = pd.DataFrame(fileList)#put file list into dataframe\n",
        "    if dfCSVlist.empty:\n",
        "        print (folderName,\"is empty\")\n",
        "    else: \n",
        "        dfCSVlist['createdDate'] = dfCSVlist['createdDate'].astype('datetime64[ns]')#convert createDate to datetime\n",
        "        fileID = dfCSVlist.at[dfCSVlist['createdDate'].idxmin(), 'id']#get fileID for the CSV with the oldest createdDate\n",
        "        fileName = dfCSVlist.at[dfCSVlist['createdDate'].idxmin(), 'title']#get fileID for the CSV with the oldest createdDate\n",
        "        fileCreatedDate = (dfCSVlist.at[dfCSVlist['createdDate'].idxmin(), 'createdDate'])#get createdDate for the CSV with the oldest createdDate\n",
        "        print (\"CSV found in\",folderName,fileName,fileID,fileCreatedDate )\n",
        "        return [fileID,fileName] \n",
        "\n",
        "print(fileID)\n"
      ],
      "metadata": {
        "colab": {
          "base_uri": "https://localhost:8080/"
        },
        "id": "dW7rKOZ_0yG8",
        "outputId": "e07887c3-66a8-4ca9-f1c9-5ffe1bf94da5"
      },
      "execution_count": 6,
      "outputs": [
        {
          "output_type": "stream",
          "name": "stdout",
          "text": [
            "None\n"
          ]
        }
      ]
    },
    {
      "cell_type": "code",
      "source": [
        "\n",
        "#folderID = '1h0YHnhDFDDD-lm5Zy_6jskzk65W7Rd44' #TimTest\n",
        "#folderID = '1NoxFC4nxw808p4-2QSVPJVr8atW54jWk' #uploadedCSV\n",
        "#folderID = '1m4k7fk-1no3pbGX9REAcxiwKOlh8wzN6' #lmsCSV\n",
        "#folderID = '1XUBZKl35zHWASQmNOfy5SkJHxw8TeCN3' #TwoDayPlus\n",
        "#folderID = '19LI1uy0YuszOOJEaE2ANOgYYQkq7vd8U' #ProblemSolveHoldingPen\n",
        "'''\n",
        "if fileID == None:\n",
        "  fileInfo = listCSVfunc('1m4k7fk-1no3pbGX9REAcxiwKOlh8wzN6',\"lmsCSV\")\n",
        "  if fileInfo != None:\n",
        "    fileID = fileInfo[0]\n",
        "    fileName = fileInfo[1]\n",
        "if fileID == None:\n",
        "  fileInfo = listCSVfunc('1XUBZKl35zHWASQmNOfy5SkJHxw8TeCN3',\"TwoDayPlus\")\n",
        "  if fileInfo != None:\n",
        "    fileID = fileInfo[0]\n",
        "    fileName = fileInfo[1]\n",
        "'''\n",
        "\n",
        "# For testing to ensure a file is found\n",
        "if fileID == None:\n",
        "  fileInfo = listCSVfunc('1h0YHnhDFDDD-lm5Zy_6jskzk65W7Rd44',\"TimTest\")\n",
        "  if fileInfo != None:\n",
        "    fileID = fileInfo[0]\n",
        "    fileName = fileInfo[1]\n",
        "'''\n",
        "'''\n",
        "\n",
        "'''\n",
        "# Save for possible future use\n",
        "print(fileID)\n",
        "print(fileName)\n",
        "fileURL = 'https://drive.google.com/file/d/'+fileID\n",
        "print(fileURL)\n",
        "fileSharingURL = fileURL+'/view?usp=sharing'\n",
        "print(fileSharingURL)\n",
        "filePathWindows = 'G:/Shared drives/LMS Admins/LMSData/uploadedCSV/'+fileName\n",
        "print(filePathWindows)\n",
        "filePathPython = '/content/drive/Shared drives/LMS Admins/LMSData/uploadedCSV/'+fileName\n",
        "print(filePathPython)\n",
        "'''\n",
        "if fileID == None:\n",
        "  print(\"     \")\n",
        "  print(\"**********No CSV files found in any folder**********\")\n",
        "  print(\"*****************Ending Script**********************\")\n",
        "  print(\"     \")\n",
        "  sys.exit()\n",
        " \n",
        "if fileID == None:\n",
        "  print(\"************************************************************************\")\n",
        "  print(\"If you see this it didn't stop\")\n",
        "  print(\"************************************************************************\")"
      ],
      "metadata": {
        "id": "u4GV2L51pZv8"
      },
      "execution_count": null,
      "outputs": []
    }
  ]
}