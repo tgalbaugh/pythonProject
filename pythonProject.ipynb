{
  "nbformat": 4,
  "nbformat_minor": 0,
  "metadata": {
    "colab": {
      "name": "pythonProject.ipynb",
      "provenance": [],
      "collapsed_sections": [],
      "mount_file_id": "1fwiQZodWSqLg7VasGCBPDztDxdvEVeFx",
      "authorship_tag": "ABX9TyO6rLUpkLK+Z8gSKIC/ZHZ7",
      "include_colab_link": true
    },
    "kernelspec": {
      "name": "python3",
      "display_name": "Python 3"
    },
    "language_info": {
      "name": "python"
    }
  },
  "cells": [
    {
      "cell_type": "markdown",
      "metadata": {
        "id": "view-in-github",
        "colab_type": "text"
      },
      "source": [
        "<a href=\"https://colab.research.google.com/github/tgalbaugh/pythonProject/blob/master/pythonProject.ipynb\" target=\"_parent\"><img src=\"https://colab.research.google.com/assets/colab-badge.svg\" alt=\"Open In Colab\"/></a>"
      ]
    },
    {
      "cell_type": "code",
      "source": [
        "import pandas as pd\n",
        "#import io\n",
        "import numpy as np\n",
        "import datetime as dt\n",
        "import pytz as tz\n",
        "#import sys\n",
        "\n",
        "#load CSV it into pandas\n",
        "df = pd.read_csv(\n",
        "'//content/pythonProject/sourceCSV/warehousedata-prodsheet-20220101.csv'\n",
        ",encoding = \"ISO-8859-1\"\n",
        ",usecols=[0,1,2,3,4,5,7,8,9,10,17,18,19,20,23,25,27,29,31,33,35,37,55,82]\n",
        ",names = ['SystemID', 'Date', 'Associate','WorkCenter','Activity','Allocation','Units','ActualHours','EarnedHours','StopTime','AssociateName','WorkCenterDesc','ActivityDesc','AllocationDesc','UnitsE1','LinesE2','OrderE3','LocationsE4','LPNSE5','EachesE6','CasesE7','PalletsE8','TravelTimeE17','Supervisor']\n",
        ",skip_blank_lines = True\n",
        ",low_memory=False \n",
        ")\n",
        "\n",
        "# V V V V V CSV fields below V V V V V\n",
        "#SystemID\tINTEGER\n",
        "df['SystemID'] = (df['SystemID']).astype(int) \n",
        "#Date\tDATE      ##convert Date from Serial Date to Python DateTime\n",
        "df[\"Date\"] = df[\"Date\"].map(lambda x: dt.datetime.fromordinal(dt.datetime(1900, 1, 1).toordinal() + x - 2)).map(lambda x: x.strftime(\"%Y-%m-%d\")).astype('datetime64[ns]')\n",
        "#Associate\tSTRING\n",
        "df['Associate'] = (df['Associate']).astype(str)\n",
        "#WorkCenter\tSTRING\n",
        "df['WorkCenter'] = (df['WorkCenter']).astype(str)\n",
        "#Activity\tSTRING\n",
        "df['Activity'] = (df['Activity']).astype(str)\n",
        "#Allocation\tINTEGER\n",
        "df['Allocation'] = (df['Allocation']).astype(int)\n",
        "#Units\tINTEGER\n",
        "df['Units'] = (df['Units']).astype(int)\n",
        "#ActualHours\tFLOAT\n",
        "df['ActualHours'] = (df['ActualHours']).astype(float)\n",
        "#EarnedHours\tFLOAT\n",
        "df['EarnedHours'] = (df['EarnedHours']).astype(float)\n",
        "#StopTime\tTIME\n",
        "df['StopTime'] = pd.to_datetime((df[\"StopTime\"]*86400), unit='s').dt.strftime(\"%H:%M:%S\")\n",
        "#AssociateName\tSTRING\n",
        "df['AssociateName'] = (df['AssociateName']).astype(str)\n",
        "#WorkCenterDesc\tSTRING\n",
        "df['WorkCenterDesc'] = (df['WorkCenterDesc']).astype(str)\n",
        "#ActivityDesc\tSTRING\n",
        "df['ActivityDesc'] = (df['ActivityDesc']).astype(str)\n",
        "#AllocationDesc\tSTRING\tNULLABLE\t\n",
        "df['AllocationDesc'] = (df['AllocationDesc']).astype(str)\n",
        "#UnitsE1\tINTEGER\t\n",
        "df['UnitsE1'] = (df['UnitsE1']).astype(float)#should be int\n",
        "#LinesE2\tINTEGER\n",
        "df['LinesE2'] = (df['LinesE2']).astype(float)#should be int\n",
        "#OrderE3\tINTEGER\n",
        "df['OrderE3'] = (df['OrderE3']).astype(float)#should be int\n",
        "#LocationsE4\tINTEGER\n",
        "df['LocationsE4'] = (df['LocationsE4']).astype(float)#should be int\n",
        "#LPNSE5\tINTEGER\n",
        "df['LPNSE5'] = (df['LPNSE5']).astype(float)#should be int\n",
        "#EachesE6\tINTEGER\n",
        "df['EachesE6'] = (df['EachesE6']).astype(float)#should be int\n",
        "#CasesE7\tINTEGER\n",
        "df['CasesE7'] = (df['CasesE7']).astype(float)#should be int\n",
        "#PalletsE8\tINTEGER\n",
        "df['PalletsE8'] = (df['PalletsE8']).astype(float)#should be int\n",
        "#TravelTimeE17\tFLOAT\n",
        "df['TravelTimeE17'] = (df['TravelTimeE17']).astype(float)\n",
        "# V V V V V fields not in CSV from ProRep V V V V V\n",
        "#ReportDateTime\tDATETIME\n",
        "df['ReportDateTime'] = (df['Date'].astype(str) + \" \" + df['StopTime'].astype(str)).astype('datetime64[ns]').astype('datetime64[ns]')\n",
        "#Shift\tINTEGER\n",
        "df['Shift'] = df['WorkCenter'].str[-1:].astype(int)\n",
        "#UnitsInTOW\tINTEGER\n",
        "#df.loc[df['UnitsCountsForDept'] == 'Yes', 'UnitsInTOW'] = df['Units'].astype(float)#should be int\n",
        "#IndirectHours\tFLOAT\n",
        "#df.loc[df['Direct'] == 'Indirect', 'IndirectHours'] = df['ActualHours'].astype(float)\n",
        "#DirectHours\tFLOAT\n",
        "#df.loc[df['Direct'] == 'Direct', 'DirectHours'] = df['ActualHours'].astype(float)\n",
        "#GapHours\tFLOAT\n",
        "ifThese = [df['Activity'].str[0:4] == '9997'\n",
        "    ,df['ActualHours'] == 0\n",
        "    ,(((df['EarnedHours']/df['ActualHours']) < 0.3)*((df['EarnedHours']/df['ActualHours']) > 0)*(df['ActualHours'] >0.5)) > 0]\n",
        "thenThese = [df['ActualHours']\n",
        "    ,0\n",
        "    ,df['ActualHours']-df['EarnedHours']]\n",
        "df['GapHours'] = np.select(ifThese, thenThese,0)\n",
        "#TimeStamp\tDATETIME\n",
        "df['TimeStamp'] = dt.datetime.now().astimezone(tz.timezone('US/Eastern')).strftime('%Y-%m-%dT%H:%M:%S')\n",
        "df['TimeStamp'] = df['TimeStamp'].astype('datetime64[ns]')\n",
        "#weekOf\tDATE\n",
        "df['weekOf'] = pd.to_datetime(df['Date']) - pd.offsets.Week(weekday=6)\n",
        "#Supervisor\tINTEGER\n",
        "df['Supervisor'] = (df['Supervisor']).astype(float)#should be int\n",
        "\n",
        "#Put columns in order\n",
        "#df = df.reindex(columns=['SystemID', 'Date', 'Associate', 'WorkCenter', 'Activity', 'Allocation', 'Units', 'ActualHours', 'EarnedHours', 'StopTime', 'AssociateName', 'WorkCenterDesc', 'ActivityDesc', 'AllocationDesc', 'UnitsE1', 'LinesE2', 'OrderE3', 'LocationsE4', 'LPNSE5', 'EachesE6', 'CasesE7', 'PalletsE8', 'TravelTimeE17', 'ReportDateTime', 'Shift', 'TypeWork', 'UnitsCountsForDept', 'UnitsInTOW', 'Direct', 'IndirectHours', 'DirectHours', 'HomeWC', 'Dept', 'GapHours', 'PlanIndirectHours', 'ReportingArea', 'UnitsCounting', 'TimeStamp', 'whName', 'whRegion','srcGoal', 'functionGroup', 'functionSubGroup', 'Measured', 'dataSource', 'weekOf', 'ProductType', 'Supervisor', 'SupervisorName', 'srcGoalDept', 'gpOperation'])\n",
        "\n",
        "#Display interactive table\n",
        "#from google.colab.data_table import DataTable\n",
        "#DataTable(df.head(100), include_index=False, num_rows_per_page=25, max_columns=60)\n",
        "\n",
        "#print CSV for Data Validation vs GBQ table\n",
        "exportCSV = df.to_csv('//content/pythonProject/bigQueryCSV/output.csv', index=False)"
      ],
      "metadata": {
        "id": "6Qoej8kdzfQq"
      },
      "execution_count": 7,
      "outputs": []
    },
    {
      "cell_type": "markdown",
      "source": [
        "Total Actual Hours"
      ],
      "metadata": {
        "id": "uquJvpHw-okA"
      }
    },
    {
      "cell_type": "code",
      "source": [
        "print('CSV for export to BigQuery has been created')\n",
        "print('')\n",
        "print('Total Transaction Count',len(df))\n",
        "print('')\n",
        "print('Total Earned Hours',round(sum(df['EarnedHours']),1))\n",
        "print('Total Actual Hours',round(sum(df['ActualHours']),1))\n",
        "print(\"Performance\",round((sum(df['EarnedHours'])/sum(df['ActualHours']))*100,1),\"%\")\n",
        "print(\"\")\n",
        "print('Total Gap Hours',round(sum(df['GapHours']),1))\n",
        "print(\"\")\n",
        "print('Total Actual Hours',round(sum(df['ActualHours']),1))\n",
        "print('Total Units',round(sum(df['Units']),1))\n",
        "print(\"Total Units per Hour\",round((sum(df['Units'])/sum(df['ActualHours'])),1))\n",
        "print(\"\")\n",
        "print('Largest Unit Transaction',round(max(df['Units']),1))\n",
        "print('Longest Transaction (in hours)',round(max(df['ActualHours']),1))\n",
        "print('')"
      ],
      "metadata": {
        "colab": {
          "base_uri": "https://localhost:8080/"
        },
        "id": "NP0HRr_d9mcQ",
        "outputId": "d4ff3b84-0069-4b69-8bef-6a0437a3e1b5"
      },
      "execution_count": 74,
      "outputs": [
        {
          "output_type": "stream",
          "name": "stdout",
          "text": [
            "CSV for export to BigQuery has been created\n",
            "\n",
            "Total Transaction Count 3530\n",
            "\n",
            "Total Earned Hours 234.3\n",
            "Total Actual Hours 260.4\n",
            "Performance 90.0 %\n",
            "\n",
            "Total Gap Hours 47.3\n",
            "\n",
            "Total Actual Hours 260.4\n",
            "Total Units 6676\n",
            "Total Units per Hour 25.6\n",
            "\n",
            "Largest Unit Transaction 474\n",
            "Longest Transaction (in hours) 9.5\n",
            "\n"
          ]
        }
      ]
    }
  ]
}